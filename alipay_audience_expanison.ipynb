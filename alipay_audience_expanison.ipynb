{
 "cells": [
  {
   "cell_type": "code",
   "execution_count": 1,
   "metadata": {},
   "outputs": [],
   "source": [
    "'''\n",
    "A real-world dataset collected from two marketing campaigns in Alipay.\n",
    "\n",
    "\n",
    "\n",
    "\n",
    "This dataset contains two commercial targeting campaign logs in Alipay. Due to privacy issue, data is sampled and desensitized. \n",
    "Although the statistical results on this data set deviate from the actual scale of Alipay.com, \n",
    "it will not affect the applicability of the solution.\n",
    "\n",
    "emb_tb_2.csv: User feature dataset.\n",
    "effect_tb.csv: Click/Non-click dataset.\n",
    "seed_cand_tb.csv: Seed users and candidate users dataset.\n",
    "\n",
    "\n",
    "dmp_id\tThe unique ID of a targeting campaign.\n",
    "user_id\tThe unique ID of an Alipay user.\n",
    "label\tDenotes whether a user clicked the campaign ads in that day dt.\n",
    "dt\tValues from {1,2}. Indicates whether it's a first day log (“1”) or a second day log (“2”) for the target campaign.\n",
    "\n",
    "'''\n",
    "import pandas as pd \n",
    "from pandas import Series,DataFrame\n",
    "import numpy as np \n",
    "import matplotlib.pyplot as plt \n",
    "import seaborn as sns \n",
    "\n",
    "sns.set_style('darkgrid')"
   ]
  },
  {
   "cell_type": "code",
   "execution_count": 2,
   "metadata": {},
   "outputs": [
    {
     "data": {
      "text/html": [
       "<div>\n",
       "<style scoped>\n",
       "    .dataframe tbody tr th:only-of-type {\n",
       "        vertical-align: middle;\n",
       "    }\n",
       "\n",
       "    .dataframe tbody tr th {\n",
       "        vertical-align: top;\n",
       "    }\n",
       "\n",
       "    .dataframe thead th {\n",
       "        text-align: right;\n",
       "    }\n",
       "</style>\n",
       "<table border=\"1\" class=\"dataframe\">\n",
       "  <thead>\n",
       "    <tr style=\"text-align: right;\">\n",
       "      <th></th>\n",
       "      <th>dt</th>\n",
       "      <th>user_id</th>\n",
       "      <th>label</th>\n",
       "      <th>dmp_id</th>\n",
       "    </tr>\n",
       "  </thead>\n",
       "  <tbody>\n",
       "    <tr>\n",
       "      <td>0</td>\n",
       "      <td>1</td>\n",
       "      <td>1000004</td>\n",
       "      <td>0</td>\n",
       "      <td>1</td>\n",
       "    </tr>\n",
       "    <tr>\n",
       "      <td>1</td>\n",
       "      <td>1</td>\n",
       "      <td>1000004</td>\n",
       "      <td>0</td>\n",
       "      <td>2</td>\n",
       "    </tr>\n",
       "    <tr>\n",
       "      <td>2</td>\n",
       "      <td>1</td>\n",
       "      <td>1000006</td>\n",
       "      <td>0</td>\n",
       "      <td>1</td>\n",
       "    </tr>\n",
       "    <tr>\n",
       "      <td>3</td>\n",
       "      <td>1</td>\n",
       "      <td>1000006</td>\n",
       "      <td>0</td>\n",
       "      <td>3</td>\n",
       "    </tr>\n",
       "    <tr>\n",
       "      <td>4</td>\n",
       "      <td>1</td>\n",
       "      <td>1000007</td>\n",
       "      <td>0</td>\n",
       "      <td>1</td>\n",
       "    </tr>\n",
       "    <tr>\n",
       "      <td>5</td>\n",
       "      <td>1</td>\n",
       "      <td>1000008</td>\n",
       "      <td>0</td>\n",
       "      <td>3</td>\n",
       "    </tr>\n",
       "    <tr>\n",
       "      <td>6</td>\n",
       "      <td>1</td>\n",
       "      <td>1000014</td>\n",
       "      <td>0</td>\n",
       "      <td>1</td>\n",
       "    </tr>\n",
       "    <tr>\n",
       "      <td>7</td>\n",
       "      <td>1</td>\n",
       "      <td>1000016</td>\n",
       "      <td>0</td>\n",
       "      <td>3</td>\n",
       "    </tr>\n",
       "    <tr>\n",
       "      <td>8</td>\n",
       "      <td>1</td>\n",
       "      <td>1000018</td>\n",
       "      <td>0</td>\n",
       "      <td>1</td>\n",
       "    </tr>\n",
       "    <tr>\n",
       "      <td>9</td>\n",
       "      <td>1</td>\n",
       "      <td>1000018</td>\n",
       "      <td>0</td>\n",
       "      <td>3</td>\n",
       "    </tr>\n",
       "  </tbody>\n",
       "</table>\n",
       "</div>"
      ],
      "text/plain": [
       "   dt  user_id  label  dmp_id\n",
       "0   1  1000004      0       1\n",
       "1   1  1000004      0       2\n",
       "2   1  1000006      0       1\n",
       "3   1  1000006      0       3\n",
       "4   1  1000007      0       1\n",
       "5   1  1000008      0       3\n",
       "6   1  1000014      0       1\n",
       "7   1  1000016      0       3\n",
       "8   1  1000018      0       1\n",
       "9   1  1000018      0       3"
      ]
     },
     "execution_count": 2,
     "metadata": {},
     "output_type": "execute_result"
    }
   ],
   "source": [
    "df = pd.read_csv('./audience_expansion/effect_tb.csv')\n",
    "df.columns = [\"dt\",\"user_id\",\"label\",\"dmp_id\"]\n",
    "df.head(10)"
   ]
  },
  {
   "cell_type": "code",
   "execution_count": 6,
   "metadata": {},
   "outputs": [
    {
     "name": "stdout",
     "output_type": "stream",
     "text": [
      "<class 'pandas.core.frame.DataFrame'>\n",
      "RangeIndex: 2645957 entries, 0 to 2645956\n",
      "Data columns (total 3 columns):\n",
      "user_id    2645957 non-null int64\n",
      "label      2645957 non-null int64\n",
      "dmp_id     2645957 non-null int64\n",
      "dtypes: int64(3)\n",
      "memory usage: 60.6 MB\n"
     ]
    }
   ],
   "source": [
    "df.info(null_counts=True)"
   ]
  },
  {
   "cell_type": "code",
   "execution_count": 5,
   "metadata": {},
   "outputs": [],
   "source": [
    "# group by campaign id, and statistic out the click rate of each campaign \n",
    "\n",
    "df.drop('dt',axis=1,inplace=True)"
   ]
  },
  {
   "cell_type": "code",
   "execution_count": 13,
   "metadata": {},
   "outputs": [],
   "source": [
    "# checking duplicated value \n",
    "df[df.duplicated()].sort_values('user_id',ascending=True)\n",
    "\n",
    "df.drop_duplicates(inplace=True)"
   ]
  },
  {
   "cell_type": "code",
   "execution_count": 18,
   "metadata": {},
   "outputs": [
    {
     "data": {
      "text/html": [
       "<div>\n",
       "<style scoped>\n",
       "    .dataframe tbody tr th:only-of-type {\n",
       "        vertical-align: middle;\n",
       "    }\n",
       "\n",
       "    .dataframe tbody tr th {\n",
       "        vertical-align: top;\n",
       "    }\n",
       "\n",
       "    .dataframe thead th {\n",
       "        text-align: right;\n",
       "    }\n",
       "</style>\n",
       "<table border=\"1\" class=\"dataframe\">\n",
       "  <thead>\n",
       "    <tr style=\"text-align: right;\">\n",
       "      <th>label</th>\n",
       "      <th>0</th>\n",
       "      <th>1</th>\n",
       "      <th>All</th>\n",
       "    </tr>\n",
       "    <tr>\n",
       "      <th>dmp_id</th>\n",
       "      <th></th>\n",
       "      <th></th>\n",
       "      <th></th>\n",
       "    </tr>\n",
       "  </thead>\n",
       "  <tbody>\n",
       "    <tr>\n",
       "      <td>1</td>\n",
       "      <td>1881744</td>\n",
       "      <td>23918</td>\n",
       "      <td>1905662</td>\n",
       "    </tr>\n",
       "    <tr>\n",
       "      <td>2</td>\n",
       "      <td>404811</td>\n",
       "      <td>6296</td>\n",
       "      <td>411107</td>\n",
       "    </tr>\n",
       "    <tr>\n",
       "      <td>3</td>\n",
       "      <td>307923</td>\n",
       "      <td>8282</td>\n",
       "      <td>316205</td>\n",
       "    </tr>\n",
       "    <tr>\n",
       "      <td>All</td>\n",
       "      <td>2594478</td>\n",
       "      <td>38496</td>\n",
       "      <td>2632974</td>\n",
       "    </tr>\n",
       "  </tbody>\n",
       "</table>\n",
       "</div>"
      ],
      "text/plain": [
       "label         0      1      All\n",
       "dmp_id                         \n",
       "1       1881744  23918  1905662\n",
       "2        404811   6296   411107\n",
       "3        307923   8282   316205\n",
       "All     2594478  38496  2632974"
      ]
     },
     "metadata": {},
     "output_type": "display_data"
    }
   ],
   "source": [
    "# checking outlier using pivot_table \n",
    "\n",
    "df_pf = pd.pivot_table(data=df, index='dmp_id',columns='label',values='user_id',aggfunc='count',margins=True)\n",
    "display(df_pf)\n",
    "# there is no outlier value "
   ]
  },
  {
   "cell_type": "code",
   "execution_count": 19,
   "metadata": {},
   "outputs": [
    {
     "data": {
      "text/html": [
       "<div>\n",
       "<style scoped>\n",
       "    .dataframe tbody tr th:only-of-type {\n",
       "        vertical-align: middle;\n",
       "    }\n",
       "\n",
       "    .dataframe tbody tr th {\n",
       "        vertical-align: top;\n",
       "    }\n",
       "\n",
       "    .dataframe thead th {\n",
       "        text-align: right;\n",
       "    }\n",
       "</style>\n",
       "<table border=\"1\" class=\"dataframe\">\n",
       "  <thead>\n",
       "    <tr style=\"text-align: right;\">\n",
       "      <th></th>\n",
       "      <th>user_id</th>\n",
       "      <th>label</th>\n",
       "    </tr>\n",
       "    <tr>\n",
       "      <th>dmp_id</th>\n",
       "      <th></th>\n",
       "      <th></th>\n",
       "    </tr>\n",
       "  </thead>\n",
       "  <tbody>\n",
       "    <tr>\n",
       "      <td>1</td>\n",
       "      <td>3.095491e+06</td>\n",
       "      <td>0.012551</td>\n",
       "    </tr>\n",
       "    <tr>\n",
       "      <td>2</td>\n",
       "      <td>3.123260e+06</td>\n",
       "      <td>0.015315</td>\n",
       "    </tr>\n",
       "    <tr>\n",
       "      <td>3</td>\n",
       "      <td>3.199583e+06</td>\n",
       "      <td>0.026192</td>\n",
       "    </tr>\n",
       "  </tbody>\n",
       "</table>\n",
       "</div>"
      ],
      "text/plain": [
       "             user_id     label\n",
       "dmp_id                        \n",
       "1       3.095491e+06  0.012551\n",
       "2       3.123260e+06  0.015315\n",
       "3       3.199583e+06  0.026192"
      ]
     },
     "execution_count": 19,
     "metadata": {},
     "output_type": "execute_result"
    }
   ],
   "source": [
    "# find out the mean value of each campaign \n",
    "df.groupby('dmp_id').mean()\n",
    "# obvious campign3  has 2.6% of click rate , we can tell campaign3 has higher click rate than campaign1, however \n",
    "# we need to use hypothesis test to test the population mean of two campaigns "
   ]
  },
  {
   "cell_type": "code",
   "execution_count": 31,
   "metadata": {},
   "outputs": [
    {
     "name": "stdout",
     "output_type": "stream",
     "text": [
      "ratio test is fulfillable\n"
     ]
    }
   ],
   "source": [
    "# In this case, we are going to ratio test because the distribution of sample is Binomial distribution \n",
    "# examing the preconditions for ratio test \n",
    "shape = df['dmp_id'].value_counts()\n",
    "n1 = shape[1]\n",
    "p1 = df['label'][df['dmp_id']==1].mean()\n",
    "\n",
    "n3 = shape[3]\n",
    "p3 = df['label'][df['dmp_id']==3].mean()\n",
    "\n",
    "if n1*p1>5 and n3*p3>5 and n1*(1-p1)>5 and n3*(1-p3)>5:\n",
    "    print('ratio test is fulfillable')\n",
    "else:\n",
    "    print('fail') "
   ]
  },
  {
   "cell_type": "code",
   "execution_count": 39,
   "metadata": {},
   "outputs": [
    {
     "name": "stdout",
     "output_type": "stream",
     "text": [
      "0.0\n"
     ]
    }
   ],
   "source": [
    "# this is two populations raito test, so Z statistics =(p1 - p2)/np.sqrt()\n",
    "from scipy import stats \n",
    "\n",
    "# Null Hypothesis: ratio of campagin3 - ratio of campagin1 <= 0 , alternative Hypothesis : roc3 - roc1 > 0 , this is right \n",
    "# side hypothesis test \n",
    "\n",
    "p = (n1*p1+n3*p3)/(n1+n3)\n",
    "\n",
    "Z= (p3-p1)/np.sqrt(p*(1-p)/(n1+n3))\n",
    "Probablity = stats.norm.sf(Z)\n",
    "print(Probablity)\n",
    "\n",
    "# as p is very close to 0%, reject null hypothesis so we strongly believe that campaign's click rate \n",
    "# campaign are higher than click rate without\n"
   ]
  },
  {
   "cell_type": "code",
   "execution_count": null,
   "metadata": {},
   "outputs": [],
   "source": []
  }
 ],
 "metadata": {
  "kernelspec": {
   "display_name": "Python 3",
   "language": "python",
   "name": "python3"
  },
  "language_info": {
   "codemirror_mode": {
    "name": "ipython",
    "version": 3
   },
   "file_extension": ".py",
   "mimetype": "text/x-python",
   "name": "python",
   "nbconvert_exporter": "python",
   "pygments_lexer": "ipython3",
   "version": "3.7.4"
  }
 },
 "nbformat": 4,
 "nbformat_minor": 2
}
